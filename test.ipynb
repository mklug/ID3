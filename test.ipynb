{
 "cells": [
  {
   "cell_type": "code",
   "execution_count": 14,
   "metadata": {},
   "outputs": [],
   "source": [
    "from math import log2\n",
    "import pandas as pd\n",
    "from ID3 import ID3\n"
   ]
  },
  {
   "cell_type": "code",
   "execution_count": 15,
   "metadata": {},
   "outputs": [],
   "source": [
    "dx = {\"Outlook\"    : [\"sunny\", \"sunny\", \"overcast\", \"rain\", \"rain\", \n",
    "                      \"rain\", \"overcast\", \"sunny\", \"sunny\", \"rain\", \n",
    "                      \"sunny\", \"overcast\", \"overcast\", \"rain\"],\n",
    "\n",
    "     \"Temperature\" : [\"hot\", \"hot\", \"hot\", \"mild\", \"cool\", \n",
    "                      \"cool\", \"cool\", \"mild\", \"cool\", \"mild\", \n",
    "                      \"mild\", \"mild\", \"hot\", \"mild\"],\n",
    "\n",
    "     \"Humidity\"    : [\"high\", \"high\", \"high\", \"high\", \"normal\",\n",
    "                      \"normal\", \"normal\", \"high\", \"normal\", \"normal\",\n",
    "                      \"normal\", \"high\", \"normal\", \"high\"],\n",
    "\n",
    "     \"Windy\"       : [\"false\", \"true\", \"false\", \"false\", \"false\",\n",
    "                      \"true\", \"true\", \"false\", \"false\", \"false\",\n",
    "                      \"true\", \"true\", \"false\", \"true\"]}\n",
    "\n",
    "dy = [\"N\", \"N\", \"P\", \"P\", \"P\", \n",
    "      \"N\", \"P\", \"N\", \"P\", \"P\", \n",
    "      \"P\", \"P\", \"P\", \"N\"]\n",
    "\n",
    "X = pd.DataFrame(dx)\n",
    "Y = pd.DataFrame(dy)\n",
    "X.index = X.index + 1\n",
    "Y.index = Y.index + 1\n"
   ]
  },
  {
   "cell_type": "code",
   "execution_count": 16,
   "metadata": {},
   "outputs": [],
   "source": [
    "from sklearn.preprocessing import LabelEncoder\n",
    "\n",
    "X = X.apply(LabelEncoder().fit_transform)\n",
    "Y = Y.apply(LabelEncoder().fit_transform)\n"
   ]
  },
  {
   "cell_type": "code",
   "execution_count": 17,
   "metadata": {},
   "outputs": [],
   "source": [
    "dt = ID3()\n",
    "dt.fit(X,Y)\n"
   ]
  },
  {
   "cell_type": "code",
   "execution_count": 18,
   "metadata": {},
   "outputs": [
    {
     "name": "stdout",
     "output_type": "stream",
     "text": [
      "Outlook\n",
      "0.9852281360342515\n",
      "1.0\n",
      "1.5566567074628228\n",
      "1.5774062828523454\n",
      "[0.0, 1.0]\n"
     ]
    }
   ],
   "source": [
    "vars(dt.root)\n",
    "\n",
    "print(dt.root.split_attribute)\n",
    "\n",
    "def H(ps):\n",
    "    return -sum(p*log2(p) for p in ps)\n",
    "\n",
    "# windy.\n",
    "ps = [6/14, 8/14]\n",
    "print(H(ps))\n",
    "\n",
    "# humidity.\n",
    "ps = [7/14, 7/14]\n",
    "print(H(ps))\n",
    "\n",
    "# temperature.\n",
    "ps = [4/14, 6/14, 4/14]\n",
    "print(H(ps))\n",
    "\n",
    "# outlook.\n",
    "ps = [5/14, 4/14, 5/14]\n",
    "print(H(ps))\n",
    "\n",
    "root = dt.root\n",
    "root.children\n",
    "\n",
    "overcast_child = dt.root.children[0]\n",
    "rain_child = dt.root.children[1]\n",
    "sunny_child = dt.root.children[2]\n",
    "print(overcast_child.class_proba)\n"
   ]
  },
  {
   "cell_type": "code",
   "execution_count": 19,
   "metadata": {},
   "outputs": [
    {
     "name": "stdout",
     "output_type": "stream",
     "text": [
      "Humidity\n"
     ]
    }
   ],
   "source": [
    "sunny_child.children\n",
    "sunny_high = sunny_child.children[0]\n",
    "sunny_normal = sunny_child.children[1]\n",
    "print(sunny_child.split_attribute)\n"
   ]
  },
  {
   "cell_type": "code",
   "execution_count": 20,
   "metadata": {},
   "outputs": [
    {
     "name": "stdout",
     "output_type": "stream",
     "text": [
      "[1.0, 0.0]\n",
      "[0.0, 1.0]\n"
     ]
    }
   ],
   "source": [
    "print(sunny_high.class_proba)\n",
    "print(sunny_normal.class_proba)\n"
   ]
  },
  {
   "cell_type": "code",
   "execution_count": 21,
   "metadata": {},
   "outputs": [
    {
     "name": "stdout",
     "output_type": "stream",
     "text": [
      "Windy\n"
     ]
    }
   ],
   "source": [
    "rain_child.children\n",
    "rain_false = rain_child.children[0]\n",
    "rain_true = rain_child.children[1]\n",
    "print(rain_child.split_attribute)\n"
   ]
  },
  {
   "cell_type": "code",
   "execution_count": 22,
   "metadata": {},
   "outputs": [
    {
     "name": "stdout",
     "output_type": "stream",
     "text": [
      "[0.0, 1.0]\n",
      "[1.0, 0.0]\n",
      "[0.35714285714285715, 0.6428571428571429]\n",
      "[0.6, 0.4]\n"
     ]
    }
   ],
   "source": [
    "print(rain_false.class_proba)\n",
    "print(rain_true.class_proba)\n",
    "print(root.class_proba)\n",
    "print(sunny_child.class_proba)\n"
   ]
  },
  {
   "cell_type": "code",
   "execution_count": 25,
   "metadata": {},
   "outputs": [
    {
     "data": {
      "text/html": [
       "<div>\n",
       "<style scoped>\n",
       "    .dataframe tbody tr th:only-of-type {\n",
       "        vertical-align: middle;\n",
       "    }\n",
       "\n",
       "    .dataframe tbody tr th {\n",
       "        vertical-align: top;\n",
       "    }\n",
       "\n",
       "    .dataframe thead th {\n",
       "        text-align: right;\n",
       "    }\n",
       "</style>\n",
       "<table border=\"1\" class=\"dataframe\">\n",
       "  <thead>\n",
       "    <tr style=\"text-align: right;\">\n",
       "      <th></th>\n",
       "      <th>Outlook</th>\n",
       "      <th>Temperature</th>\n",
       "      <th>Humidity</th>\n",
       "      <th>Windy</th>\n",
       "    </tr>\n",
       "  </thead>\n",
       "  <tbody>\n",
       "    <tr>\n",
       "      <th>0</th>\n",
       "      <td>2</td>\n",
       "      <td>1</td>\n",
       "      <td>0</td>\n",
       "      <td>0</td>\n",
       "    </tr>\n",
       "    <tr>\n",
       "      <th>1</th>\n",
       "      <td>2</td>\n",
       "      <td>1</td>\n",
       "      <td>0</td>\n",
       "      <td>1</td>\n",
       "    </tr>\n",
       "    <tr>\n",
       "      <th>2</th>\n",
       "      <td>0</td>\n",
       "      <td>0</td>\n",
       "      <td>0</td>\n",
       "      <td>0</td>\n",
       "    </tr>\n",
       "    <tr>\n",
       "      <th>3</th>\n",
       "      <td>1</td>\n",
       "      <td>2</td>\n",
       "      <td>1</td>\n",
       "      <td>1</td>\n",
       "    </tr>\n",
       "    <tr>\n",
       "      <th>4</th>\n",
       "      <td>0</td>\n",
       "      <td>2</td>\n",
       "      <td>1</td>\n",
       "      <td>0</td>\n",
       "    </tr>\n",
       "  </tbody>\n",
       "</table>\n",
       "</div>"
      ],
      "text/plain": [
       "   Outlook  Temperature  Humidity  Windy\n",
       "0        2            1         0      0\n",
       "1        2            1         0      1\n",
       "2        0            0         0      0\n",
       "3        1            2         1      1\n",
       "4        0            2         1      0"
      ]
     },
     "execution_count": 25,
     "metadata": {},
     "output_type": "execute_result"
    }
   ],
   "source": [
    "dx_test = {\"Outlook\"    : [\"sunny\", \"sunny\", \"overcast\", \"rain\", \"overcast\"],\n",
    "          \"Temperature\" : [\"hot\", \"hot\", \"cool\", \"mild\", \"mild\"],\n",
    "          \"Humidity\"    : [\"high\", \"high\", \"high\", \"normal\", \"normal\"],\n",
    "          \"Windy\"       : [\"false\", \"true\", \"false\", \"true\", \"false\"]}\n",
    "\n",
    "X_test = pd.DataFrame(dx_test)\n",
    "X_test = X_test.apply(LabelEncoder().fit_transform)\n",
    "X_test\n"
   ]
  },
  {
   "cell_type": "code",
   "execution_count": 27,
   "metadata": {},
   "outputs": [
    {
     "name": "stdout",
     "output_type": "stream",
     "text": [
      "     0    1\n",
      "0  1.0  0.0\n",
      "1  1.0  0.0\n",
      "2  0.0  1.0\n",
      "3  1.0  0.0\n",
      "4  0.0  1.0\n",
      "0    0\n",
      "1    0\n",
      "2    1\n",
      "3    0\n",
      "4    1\n",
      "dtype: int64\n"
     ]
    }
   ],
   "source": [
    "row_data = X_test.iloc[3]\n",
    "ID3._predict_proba_row(row_data, dt.root)\n",
    "probs = dt.predict_proba(X_test)\n",
    "print(probs)\n",
    "print(dt.predict(X_test)) # 0 0 1 0 1\n",
    "# One sticky point -- encoding for testing must agree with the encoding for training.  \n"
   ]
  },
  {
   "cell_type": "code",
   "execution_count": null,
   "metadata": {},
   "outputs": [],
   "source": []
  }
 ],
 "metadata": {
  "kernelspec": {
   "display_name": "Python 3",
   "language": "python",
   "name": "python3"
  },
  "language_info": {
   "codemirror_mode": {
    "name": "ipython",
    "version": 3
   },
   "file_extension": ".py",
   "mimetype": "text/x-python",
   "name": "python",
   "nbconvert_exporter": "python",
   "pygments_lexer": "ipython3",
   "version": "3.11.5"
  }
 },
 "nbformat": 4,
 "nbformat_minor": 2
}
